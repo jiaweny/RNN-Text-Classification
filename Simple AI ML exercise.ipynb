{
 "cells": [
  {
   "cell_type": "code",
   "execution_count": 1,
   "id": "16d59b9a",
   "metadata": {},
   "outputs": [],
   "source": [
    "import numpy as np\n",
    "import pandas as pd\n",
    "\n",
    "from sklearn.model_selection import train_test_split\n",
    "\n",
    "from tensorflow.keras.preprocessing.text import Tokenizer\n",
    "from tensorflow.keras.preprocessing.sequence import pad_sequences\n",
    "from tensorflow.keras.layers import Input, Embedding, LSTM, GlobalMaxPooling1D, Dense\n",
    "from tensorflow.keras.models import Model\n",
    "\n",
    "from sklearn import metrics\n",
    "import seaborn as sn\n",
    "import matplotlib.pyplot as plt"
   ]
  },
  {
   "cell_type": "markdown",
   "id": "17a1e27a",
   "metadata": {},
   "source": [
    "## Data Preprocessing"
   ]
  },
  {
   "cell_type": "code",
   "execution_count": 2,
   "id": "f30505a4",
   "metadata": {},
   "outputs": [],
   "source": [
    "# dataset is taken from kaggle https://www.kaggle.com/uciml/sms-spam-collection-dataset\n",
    "df = pd.read_csv('./spam.csv')"
   ]
  },
  {
   "cell_type": "code",
   "execution_count": 3,
   "id": "963500f8",
   "metadata": {},
   "outputs": [
    {
     "data": {
      "text/html": [
       "<div>\n",
       "<style scoped>\n",
       "    .dataframe tbody tr th:only-of-type {\n",
       "        vertical-align: middle;\n",
       "    }\n",
       "\n",
       "    .dataframe tbody tr th {\n",
       "        vertical-align: top;\n",
       "    }\n",
       "\n",
       "    .dataframe thead th {\n",
       "        text-align: right;\n",
       "    }\n",
       "</style>\n",
       "<table border=\"1\" class=\"dataframe\">\n",
       "  <thead>\n",
       "    <tr style=\"text-align: right;\">\n",
       "      <th></th>\n",
       "      <th>v1</th>\n",
       "      <th>v2</th>\n",
       "      <th>Unnamed: 2</th>\n",
       "      <th>Unnamed: 3</th>\n",
       "      <th>Unnamed: 4</th>\n",
       "    </tr>\n",
       "  </thead>\n",
       "  <tbody>\n",
       "    <tr>\n",
       "      <th>0</th>\n",
       "      <td>ham</td>\n",
       "      <td>Go until jurong point, crazy.. Available only ...</td>\n",
       "      <td>NaN</td>\n",
       "      <td>NaN</td>\n",
       "      <td>NaN</td>\n",
       "    </tr>\n",
       "    <tr>\n",
       "      <th>1</th>\n",
       "      <td>ham</td>\n",
       "      <td>Ok lar... Joking wif u oni...</td>\n",
       "      <td>NaN</td>\n",
       "      <td>NaN</td>\n",
       "      <td>NaN</td>\n",
       "    </tr>\n",
       "    <tr>\n",
       "      <th>2</th>\n",
       "      <td>spam</td>\n",
       "      <td>Free entry in 2 a wkly comp to win FA Cup fina...</td>\n",
       "      <td>NaN</td>\n",
       "      <td>NaN</td>\n",
       "      <td>NaN</td>\n",
       "    </tr>\n",
       "    <tr>\n",
       "      <th>3</th>\n",
       "      <td>ham</td>\n",
       "      <td>U dun say so early hor... U c already then say...</td>\n",
       "      <td>NaN</td>\n",
       "      <td>NaN</td>\n",
       "      <td>NaN</td>\n",
       "    </tr>\n",
       "    <tr>\n",
       "      <th>4</th>\n",
       "      <td>ham</td>\n",
       "      <td>Nah I don't think he goes to usf, he lives aro...</td>\n",
       "      <td>NaN</td>\n",
       "      <td>NaN</td>\n",
       "      <td>NaN</td>\n",
       "    </tr>\n",
       "  </tbody>\n",
       "</table>\n",
       "</div>"
      ],
      "text/plain": [
       "     v1                                                 v2 Unnamed: 2  \\\n",
       "0   ham  Go until jurong point, crazy.. Available only ...        NaN   \n",
       "1   ham                      Ok lar... Joking wif u oni...        NaN   \n",
       "2  spam  Free entry in 2 a wkly comp to win FA Cup fina...        NaN   \n",
       "3   ham  U dun say so early hor... U c already then say...        NaN   \n",
       "4   ham  Nah I don't think he goes to usf, he lives aro...        NaN   \n",
       "\n",
       "  Unnamed: 3 Unnamed: 4  \n",
       "0        NaN        NaN  \n",
       "1        NaN        NaN  \n",
       "2        NaN        NaN  \n",
       "3        NaN        NaN  \n",
       "4        NaN        NaN  "
      ]
     },
     "execution_count": 3,
     "metadata": {},
     "output_type": "execute_result"
    }
   ],
   "source": [
    "df.head()"
   ]
  },
  {
   "cell_type": "code",
   "execution_count": 4,
   "id": "f8cc2d4a",
   "metadata": {},
   "outputs": [],
   "source": [
    "# convert labels to binary numbers\n",
    "df['class'] = df['v1'].map({'ham': 0, 'spam': 1}) \n",
    "Y = df['class'].values"
   ]
  },
  {
   "cell_type": "code",
   "execution_count": 5,
   "id": "cc989968",
   "metadata": {},
   "outputs": [],
   "source": [
    "# Split training set and testing set\n",
    "df_train, df_test, Ytrain, Ytest = train_test_split(df['v2'], Y, test_size=0.2)"
   ]
  },
  {
   "cell_type": "code",
   "execution_count": 6,
   "id": "6620c40a",
   "metadata": {},
   "outputs": [
    {
     "name": "stdout",
     "output_type": "stream",
     "text": [
      "Shape of data train tensor: (4457, 160)\n",
      "Shape of data test tensor: (1115, 160)\n"
     ]
    }
   ],
   "source": [
    "# Convert string into vector of integers\n",
    "MAX_VOCAB_SIZE = 20000\n",
    "MAX_SEQUENCE_SIZE = 160\n",
    "\n",
    "tokenizer = Tokenizer(num_words=MAX_VOCAB_SIZE)\n",
    "tokenizer.fit_on_texts(df_train)\n",
    "sequences_train = tokenizer.texts_to_sequences(df_train)\n",
    "sequences_test = tokenizer.texts_to_sequences(df_test)\n",
    "\n",
    "# pad the sequences so each vector in the matrix has same length\n",
    "data_train = pad_sequences(sequences_train, maxlen=MAX_SEQUENCE_SIZE)\n",
    "data_test = pad_sequences(sequences_test, maxlen=MAX_SEQUENCE_SIZE)\n",
    "\n",
    "print('Shape of data train tensor:', data_train.shape)\n",
    "print('Shape of data test tensor:', data_test.shape)"
   ]
  },
  {
   "cell_type": "markdown",
   "id": "760ad743",
   "metadata": {},
   "source": [
    "## Create RNN model"
   ]
  },
  {
   "cell_type": "code",
   "execution_count": 7,
   "id": "cba7701f",
   "metadata": {},
   "outputs": [],
   "source": [
    "# Create the model\n",
    "\n",
    "x = Input(shape=(data_train.shape[1],))\n",
    "y = Embedding(len(tokenizer.word_index) + 1, 20)(x)\n",
    "y = LSTM(15, return_sequences=True)(y)\n",
    "y = GlobalMaxPooling1D()(y)\n",
    "y = Dense(1, activation='sigmoid')(y) \n",
    "\n",
    "model = Model(inputs=x, outputs=y)\n"
   ]
  },
  {
   "cell_type": "markdown",
   "id": "ce2ce0d3",
   "metadata": {},
   "source": [
    "## Compile and fit RNN model"
   ]
  },
  {
   "cell_type": "code",
   "execution_count": 8,
   "id": "412e9ad2",
   "metadata": {},
   "outputs": [
    {
     "name": "stdout",
     "output_type": "stream",
     "text": [
      "Train on 3565 samples, validate on 892 samples\n",
      "Epoch 1/10\n",
      "3565/3565 [==============================] - 27s 8ms/sample - loss: 0.4814 - accuracy: 0.8589 - val_loss: 0.3857 - val_accuracy: 0.8565\n",
      "Epoch 2/10\n",
      "3565/3565 [==============================] - 23s 6ms/sample - loss: 0.2683 - accuracy: 0.8684 - val_loss: 0.2421 - val_accuracy: 0.8565\n",
      "Epoch 3/10\n",
      "3565/3565 [==============================] - 24s 7ms/sample - loss: 0.1660 - accuracy: 0.9307 - val_loss: 0.1741 - val_accuracy: 0.9462\n",
      "Epoch 4/10\n",
      "3565/3565 [==============================] - 24s 7ms/sample - loss: 0.1108 - accuracy: 0.9891 - val_loss: 0.1347 - val_accuracy: 0.9697\n",
      "Epoch 5/10\n",
      "3565/3565 [==============================] - 23s 6ms/sample - loss: 0.0733 - accuracy: 0.9944 - val_loss: 0.1166 - val_accuracy: 0.9697\n",
      "Epoch 6/10\n",
      "3565/3565 [==============================] - 22s 6ms/sample - loss: 0.0522 - accuracy: 0.9952 - val_loss: 0.1102 - val_accuracy: 0.9731\n",
      "Epoch 7/10\n",
      "3565/3565 [==============================] - 23s 6ms/sample - loss: 0.0392 - accuracy: 0.9964 - val_loss: 0.1032 - val_accuracy: 0.9720\n",
      "Epoch 8/10\n",
      "3565/3565 [==============================] - 24s 7ms/sample - loss: 0.0289 - accuracy: 0.9972 - val_loss: 0.1031 - val_accuracy: 0.9709\n",
      "Epoch 9/10\n",
      "3565/3565 [==============================] - 23s 6ms/sample - loss: 0.0212 - accuracy: 0.9986 - val_loss: 0.1033 - val_accuracy: 0.9709\n",
      "Epoch 10/10\n",
      "3565/3565 [==============================] - 23s 6ms/sample - loss: 0.0153 - accuracy: 0.9992 - val_loss: 0.1023 - val_accuracy: 0.9697\n"
     ]
    }
   ],
   "source": [
    "# Compile and fit\n",
    "model.compile(\n",
    "  loss='binary_crossentropy',\n",
    "  optimizer='adam',\n",
    "  metrics=['accuracy']\n",
    ")\n",
    "\n",
    "fitted_model = model.fit(\n",
    "  x=data_train,\n",
    "  y=Ytrain,\n",
    "  epochs=10,\n",
    "  validation_split=0.2,\n",
    ")"
   ]
  },
  {
   "cell_type": "code",
   "execution_count": 9,
   "id": "8a0d5b87",
   "metadata": {},
   "outputs": [
    {
     "data": {
      "text/plain": [
       "<matplotlib.legend.Legend at 0x152466690>"
      ]
     },
     "execution_count": 9,
     "metadata": {},
     "output_type": "execute_result"
    },
    {
     "data": {
      "image/png": "[encoded data removed]",
      "text/plain": [
       "<Figure size 432x288 with 1 Axes>"
      ]
     },
     "metadata": {
      "needs_background": "light"
     },
     "output_type": "display_data"
    }
   ],
   "source": [
    "# Plot loss vs iteration\n",
    "plt.plot(fitted_model.history['loss'], label='loss')\n",
    "plt.plot(fitted_model.history['val_loss'], label='val_loss')\n",
    "plt.legend()"
   ]
  },
  {
   "cell_type": "code",
   "execution_count": 10,
   "id": "9bbfcd46",
   "metadata": {},
   "outputs": [
    {
     "data": {
      "text/plain": [
       "<matplotlib.legend.Legend at 0x152b9a890>"
      ]
     },
     "execution_count": 10,
     "metadata": {},
     "output_type": "execute_result"
    },
    {
     "data": {
      "image/png": "[encoded data removed]",
      "text/plain": [
       "<Figure size 432x288 with 1 Axes>"
      ]
     },
     "metadata": {
      "needs_background": "light"
     },
     "output_type": "display_data"
    }
   ],
   "source": [
    "# Plot accuracy vs iteration\n",
    "plt.plot(fitted_model.history['accuracy'], label='acc')\n",
    "plt.plot(fitted_model.history['val_accuracy'], label='val_acc')\n",
    "plt.legend()"
   ]
  },
  {
   "cell_type": "markdown",
   "id": "d1daa9f6",
   "metadata": {},
   "source": [
    "## Model prediction and evaluation"
   ]
  },
  {
   "cell_type": "code",
   "execution_count": 11,
   "id": "3f3338c7",
   "metadata": {},
   "outputs": [],
   "source": [
    "Ypreds = (model.predict(data_test) > 0.5).astype(\"int32\")"
   ]
  },
  {
   "cell_type": "code",
   "execution_count": 12,
   "id": "dce890aa",
   "metadata": {},
   "outputs": [
    {
     "name": "stdout",
     "output_type": "stream",
     "text": [
      "Model Accuracy score: 0.9766816143497757\n"
     ]
    }
   ],
   "source": [
    "print('Model Accuracy score:', metrics.accuracy_score(Ytest, Ypreds))"
   ]
  },
  {
   "cell_type": "code",
   "execution_count": 13,
   "id": "d711a3f6",
   "metadata": {},
   "outputs": [
    {
     "data": {
      "text/plain": [
       "Text(0.5, 1.0, 'Normalized Confusion Matrix of test dataset')"
      ]
     },
     "execution_count": 13,
     "metadata": {},
     "output_type": "execute_result"
    },
    {
     "data": {
      "image/png": "[encoded data removed]",
      "text/plain": [
       "<Figure size 576x432 with 2 Axes>"
      ]
     },
     "metadata": {
      "needs_background": "light"
     },
     "output_type": "display_data"
    }
   ],
   "source": [
    "cm= np.array(metrics.confusion_matrix(Ytest, Ypreds))\n",
    "cm = cm.astype('float') / cm.sum(axis=1)[:, np.newaxis]\n",
    "df_cm = pd.DataFrame(cm, ['true ham', 'true spam'], ['predicted ham', 'predicted spam'])\n",
    "plt.figure(figsize=(8,6))\n",
    "sn.set(font_scale=1.5) # for label size\n",
    "sn.heatmap(df_cm, annot=True, annot_kws={\"size\": 16}) # font size\n",
    "plt.title('Normalized Confusion Matrix of test dataset')"
   ]
  },
  {
   "cell_type": "code",
   "execution_count": null,
   "id": "3a8fc21c",
   "metadata": {},
   "outputs": [],
   "source": []
  },
  {
   "cell_type": "code",
   "execution_count": null,
   "id": "4dd2177c",
   "metadata": {},
   "outputs": [],
   "source": []
  },
  {
   "cell_type": "code",
   "execution_count": null,
   "id": "0fa133b3",
   "metadata": {},
   "outputs": [],
   "source": []
  },
  {
   "cell_type": "code",
   "execution_count": null,
   "id": "a43aacb5",
   "metadata": {},
   "outputs": [],
   "source": []
  },
  {
   "cell_type": "code",
   "execution_count": null,
   "id": "3ea2c07e",
   "metadata": {},
   "outputs": [],
   "source": []
  }
 ],
 "metadata": {
  "kernelspec": {
   "display_name": "Python 3",
   "language": "python",
   "name": "python3"
  },
  "language_info": {
   "codemirror_mode": {
    "name": "ipython",
    "version": 3
   },
   "file_extension": ".py",
   "mimetype": "text/x-python",
   "name": "python",
   "nbconvert_exporter": "python",
   "pygments_lexer": "ipython3",
   "version": "3.7.10"
  },
  "toc": {
   "base_numbering": 1,
   "nav_menu": {},
   "number_sections": true,
   "sideBar": true,
   "skip_h1_title": false,
   "title_cell": "Table of Contents",
   "title_sidebar": "Contents",
   "toc_cell": false,
   "toc_position": {},
   "toc_section_display": true,
   "toc_window_display": false
  },
  "varInspector": {
   "cols": {
    "lenName": 16,
    "lenType": 16,
    "lenVar": 40
   },
   "kernels_config": {
    "python": {
     "delete_cmd_postfix": "",
     "delete_cmd_prefix": "del ",
     "library": "var_list.py",
     "varRefreshCmd": "print(var_dic_list())"
    },
    "r": {
     "delete_cmd_postfix": ") ",
     "delete_cmd_prefix": "rm(",
     "library": "var_list.r",
     "varRefreshCmd": "cat(var_dic_list()) "
    }
   },
   "types_to_exclude": [
    "module",
    "function",
    "builtin_function_or_method",
    "instance",
    "_Feature"
   ],
   "window_display": false
  }
 },
 "nbformat": 4,
 "nbformat_minor": 5
}
